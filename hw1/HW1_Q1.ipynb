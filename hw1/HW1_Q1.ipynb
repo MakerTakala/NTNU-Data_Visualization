{
 "cells": [
  {
   "cell_type": "code",
   "execution_count": null,
   "metadata": {},
   "outputs": [],
   "source": [
    "!python3 -V\n",
    "!python3 -m pip install pandas numpy matplotlib"
   ]
  },
  {
   "cell_type": "code",
   "execution_count": null,
   "metadata": {},
   "outputs": [],
   "source": [
    "import pandas as pd\n",
    "import numpy as np\n",
    "import matplotlib.pyplot as plt"
   ]
  },
  {
   "cell_type": "code",
   "execution_count": null,
   "metadata": {},
   "outputs": [],
   "source": [
    "# Read the data into a data frame.\n",
    "\n",
    "data = pd.read_csv('./pitching.csv')\n",
    "display(data)"
   ]
  },
  {
   "cell_type": "code",
   "execution_count": null,
   "metadata": {},
   "outputs": [],
   "source": [
    "# Display all pitchers in 2015 under each team sorted by their last names.\n",
    "\n",
    "pitchers_group_team = data[data['yearID'] == 2015].groupby('teamID')\n",
    "for team in pitchers_group_team.groups:\n",
    "    print(\"\\033[1;93m\" + team + \"\\033[0m\")\n",
    "    display(pitchers_group_team.get_group(team).sort_values('nameLast'))"
   ]
  },
  {
   "cell_type": "code",
   "execution_count": null,
   "metadata": {},
   "outputs": [],
   "source": [
    "# Display all pitchers in 2015 sorted by their ERAs. This allows you to identify the best and worst pitchers.\n",
    "\n",
    "display(data[data['yearID'] == 2015].sort_values('ERA'))"
   ]
  },
  {
   "cell_type": "code",
   "execution_count": null,
   "metadata": {},
   "outputs": [],
   "source": [
    "# Display all pitchers in 2015 under each team sorted by their strike outs (SO).\n",
    "\n",
    "pitchers_group_team = data[data['yearID'] == 2015].groupby('teamID')\n",
    "\n",
    "for team in pitchers_group_team.groups:\n",
    "    print(\"\\033[1;93m\" + team + \"\\033[0m\")\n",
    "    display(pitchers_group_team.get_group(team).sort_values('SO'))"
   ]
  },
  {
   "cell_type": "code",
   "execution_count": null,
   "metadata": {},
   "outputs": [],
   "source": [
    "# Calculate the average ERA for each team, list the teams by the average ERA in a descending ord\n",
    "\n",
    "display(data.groupby('teamID')[['ERA']].mean().sort_values('ERA', ascending = False))"
   ]
  },
  {
   "cell_type": "code",
   "execution_count": null,
   "metadata": {},
   "outputs": [],
   "source": [
    "# Calculate the total number of home runs allowed (HRs) for each team, and list the team by the count in \n",
    "# an ascending order.\n",
    "\n",
    "display(data.groupby('teamID')[['HR']].sum().sort_values('HR'))"
   ]
  },
  {
   "cell_type": "code",
   "execution_count": null,
   "metadata": {},
   "outputs": [],
   "source": [
    "# Calculate each team’s average ERA from 2011 to 2015, and list the result as a table, where each column \n",
    "# is a year, each row is a team.\n",
    "\n",
    "display(data[(2011 <= data['yearID']) & (data['yearID'] <= 2015)].groupby(['teamID', 'yearID'])[['ERA']].mean().unstack().sort_index())"
   ]
  },
  {
   "cell_type": "code",
   "execution_count": null,
   "metadata": {},
   "outputs": [],
   "source": [
    "# Calculate the average ERAs for American League (AL) and National League (NL) from 2011 to 2015, and \n",
    "# list the result as a table, where each column is a league and each row is a year. \n",
    "\n",
    "\n",
    "'''leagues = ['AL', 'NL']\n",
    "years = [x for x in range(2011, 2016)]\n",
    "era_average_dataframe = pd.DataFrame(columns = years, index = leagues)\n",
    "\n",
    "for league in leagues:\n",
    "    for year in years:\n",
    "        era_average_dataframe.at[league, year] = data[(data['lgID'] == league) & (data['yearID'] == year)]['ERA'].mean()\n",
    "\n",
    "display(era_average_dataframe)'''\n",
    "\n",
    "display(data[(2011 <= data['yearID']) & (data['yearID'] <= 2015)].groupby(['lgID', 'yearID'])[['ERA']].mean())"
   ]
  },
  {
   "cell_type": "code",
   "execution_count": 121,
   "metadata": {},
   "outputs": [
    {
     "data": {
      "text/html": [
       "<div>\n",
       "<style scoped>\n",
       "    .dataframe tbody tr th:only-of-type {\n",
       "        vertical-align: middle;\n",
       "    }\n",
       "\n",
       "    .dataframe tbody tr th {\n",
       "        vertical-align: top;\n",
       "    }\n",
       "\n",
       "    .dataframe thead th {\n",
       "        text-align: right;\n",
       "    }\n",
       "</style>\n",
       "<table border=\"1\" class=\"dataframe\">\n",
       "  <thead>\n",
       "    <tr style=\"text-align: right;\">\n",
       "      <th></th>\n",
       "      <th>nameFirst</th>\n",
       "      <th>nameLast</th>\n",
       "      <th>W</th>\n",
       "    </tr>\n",
       "    <tr>\n",
       "      <th>yearID</th>\n",
       "      <th></th>\n",
       "      <th></th>\n",
       "      <th></th>\n",
       "    </tr>\n",
       "  </thead>\n",
       "  <tbody>\n",
       "    <tr>\n",
       "      <th>2011</th>\n",
       "      <td>Zack</td>\n",
       "      <td>van den Hurk</td>\n",
       "      <td>24</td>\n",
       "    </tr>\n",
       "    <tr>\n",
       "      <th>2012</th>\n",
       "      <td>Zack</td>\n",
       "      <td>van den Hurk</td>\n",
       "      <td>21</td>\n",
       "    </tr>\n",
       "    <tr>\n",
       "      <th>2013</th>\n",
       "      <td>Zeke</td>\n",
       "      <td>Zito</td>\n",
       "      <td>21</td>\n",
       "    </tr>\n",
       "    <tr>\n",
       "      <th>2014</th>\n",
       "      <td>Zeke</td>\n",
       "      <td>deGrom</td>\n",
       "      <td>21</td>\n",
       "    </tr>\n",
       "    <tr>\n",
       "      <th>2015</th>\n",
       "      <td>Zack</td>\n",
       "      <td>deGrom</td>\n",
       "      <td>22</td>\n",
       "    </tr>\n",
       "  </tbody>\n",
       "</table>\n",
       "</div>"
      ],
      "text/plain": [
       "       nameFirst      nameLast   W\n",
       "yearID                            \n",
       "2011        Zack  van den Hurk  24\n",
       "2012        Zack  van den Hurk  21\n",
       "2013        Zeke          Zito  21\n",
       "2014        Zeke        deGrom  21\n",
       "2015        Zack        deGrom  22"
      ]
     },
     "metadata": {},
     "output_type": "display_data"
    }
   ],
   "source": [
    "# List the pitchers who had the most wins in each of the years from 2011 to 2015.\n",
    "\n",
    "display(data[(2011 <= data['yearID']) & (data['yearID'] <= 2015)].groupby(['yearID'])[['nameFirst', 'nameLast', 'W']].max())"
   ]
  }
 ],
 "metadata": {
  "kernelspec": {
   "display_name": "Python 3.10.6 64-bit",
   "language": "python",
   "name": "python3"
  },
  "language_info": {
   "codemirror_mode": {
    "name": "ipython",
    "version": 3
   },
   "file_extension": ".py",
   "mimetype": "text/x-python",
   "name": "python",
   "nbconvert_exporter": "python",
   "pygments_lexer": "ipython3",
   "version": "3.10.6"
  },
  "orig_nbformat": 4,
  "vscode": {
   "interpreter": {
    "hash": "b0fa6594d8f4cbf19f97940f81e996739fb7646882a419484c72d19e05852a7e"
   }
  }
 },
 "nbformat": 4,
 "nbformat_minor": 2
}
