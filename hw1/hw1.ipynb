{
 "cells": [
  {
   "cell_type": "code",
   "execution_count": null,
   "metadata": {},
   "outputs": [],
   "source": [
    "!python3 -V\n",
    "!python3 -m pip install pandas numpy matplotlib"
   ]
  },
  {
   "cell_type": "code",
   "execution_count": 125,
   "metadata": {},
   "outputs": [],
   "source": [
    "import pandas as pd\n",
    "import numpy as np\n",
    "import matplotlib.pyplot as plt"
   ]
  },
  {
   "cell_type": "code",
   "execution_count": null,
   "metadata": {},
   "outputs": [],
   "source": [
    "# Read the data into a data frame.\n",
    "\n",
    "data = pd.read_csv('./pitching.csv')\n",
    "data"
   ]
  },
  {
   "cell_type": "code",
   "execution_count": null,
   "metadata": {},
   "outputs": [],
   "source": [
    "# Display all pitchers in 2015 under each team sorted by their last names.\n",
    "\n",
    "pitchers = data[data['yearID'] == 2015]\n",
    "teams = pitchers['teamID'].unique()\n",
    "\n",
    "for team in teams:\n",
    "    print(\"\\033[1;93m\" + team + \"\\033[0m\")\n",
    "    display(pitchers[pitchers['teamID'] == team].sort_values('nameLast'))"
   ]
  },
  {
   "cell_type": "code",
   "execution_count": null,
   "metadata": {},
   "outputs": [],
   "source": [
    "# Display all pitchers in 2015 sorted by their ERAs. This allows you to identify the best and worst pitchers.\n",
    "\n",
    "display(data[data['yearID'] == 2015].sort_values('ERA'))"
   ]
  },
  {
   "cell_type": "code",
   "execution_count": null,
   "metadata": {},
   "outputs": [],
   "source": [
    "# Display all pitchers in 2015 under each team sorted by their strike outs (SO).\n",
    "\n",
    "pitchers = data[data['yearID'] == 2015]\n",
    "teams = pitchers['teamID'].unique()\n",
    "\n",
    "for team in teams:\n",
    "    print(\"\\033[1;93m\" + team + \"\\033[0m\")\n",
    "    display(pitchers[pitchers['teamID'] == team].sort_values('SO'))"
   ]
  },
  {
   "cell_type": "code",
   "execution_count": null,
   "metadata": {},
   "outputs": [],
   "source": [
    "# Calculate the average ERA for each team, list the teams by the average ERA in a descending ord\n",
    "\n",
    "teams = data['teamID'].unique()\n",
    "era_rank = pd.Series()\n",
    "\n",
    "for team in teams:\n",
    "    era_rank[team] = data[data['teamID'] == team]['ERA'].mean()\n",
    "\n",
    "display(era_rank.sort_values(ascending = False))"
   ]
  },
  {
   "cell_type": "code",
   "execution_count": null,
   "metadata": {},
   "outputs": [],
   "source": [
    "# Calculate the total number of home runs allowed (HRs) for each team, and list the team by the count in \n",
    "# an ascending order.\n",
    "\n",
    "teams = data['teamID'].unique()\n",
    "homerun_rank = pd.Series()\n",
    "\n",
    "for team in teams:\n",
    "    homerun_rank[team] = data[data['teamID'] == team]['HR'].sum()\n",
    "display(homerun_rank.sort_values(ascending = False))"
   ]
  },
  {
   "cell_type": "code",
   "execution_count": null,
   "metadata": {},
   "outputs": [],
   "source": [
    "# Calculate each team’s average ERA from 2011 to 2015, and list the result as a table, where each column \n",
    "# is a year, each row is a team.\n",
    "\n",
    "from locale import ERA\n",
    "\n",
    "\n",
    "teams = data['teamID'].unique()\n",
    "years = [x for x in range(2011, 2016)]\n",
    "era_average_dataframe = pd.DataFrame(columns = years, index = teams)\n",
    "\n",
    "for team in teams:\n",
    "    for year in years:\n",
    "        era_average_dataframe.at[team, year] = data[(data['teamID'] == team) & (data['yearID'] == year)]['ERA'].mean()\n",
    "\n",
    "display(era_average_dataframe.fillna(0))\n",
    "\n"
   ]
  },
  {
   "cell_type": "code",
   "execution_count": null,
   "metadata": {},
   "outputs": [],
   "source": [
    "# Calculate the average ERAs for American League (AL) and National League (NL) from 2011 to 2015, and \n",
    "# list the result as a table, where each column is a league and each row is a year. \n",
    "\n"
   ]
  }
 ],
 "metadata": {
  "kernelspec": {
   "display_name": "Python 3.10.6 64-bit",
   "language": "python",
   "name": "python3"
  },
  "language_info": {
   "codemirror_mode": {
    "name": "ipython",
    "version": 3
   },
   "file_extension": ".py",
   "mimetype": "text/x-python",
   "name": "python",
   "nbconvert_exporter": "python",
   "pygments_lexer": "ipython3",
   "version": "3.10.6"
  },
  "orig_nbformat": 4,
  "vscode": {
   "interpreter": {
    "hash": "b0fa6594d8f4cbf19f97940f81e996739fb7646882a419484c72d19e05852a7e"
   }
  }
 },
 "nbformat": 4,
 "nbformat_minor": 2
}
