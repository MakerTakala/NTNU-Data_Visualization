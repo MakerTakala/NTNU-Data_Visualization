{
 "cells": [
  {
   "cell_type": "code",
   "execution_count": null,
   "metadata": {},
   "outputs": [],
   "source": [
    "!python3 -V\n",
    "!python3 -m pip install pandas numpy matplotlib"
   ]
  },
  {
   "cell_type": "code",
   "execution_count": null,
   "metadata": {},
   "outputs": [],
   "source": [
    "import pandas as pd\n",
    "import numpy as np\n",
    "import matplotlib.pyplot as plt"
   ]
  },
  {
   "cell_type": "code",
   "execution_count": null,
   "metadata": {},
   "outputs": [],
   "source": [
    "pitchings_data = pd.read_csv('./pitching.csv')\n",
    "players_data = pd.read_csv('./players.csv')\n",
    "teams_data = pd.read_csv('./teams.csv')\n",
    "display(pitchings_data, players_data, teams_data)"
   ]
  },
  {
   "cell_type": "markdown",
   "metadata": {},
   "source": [
    "### Task1"
   ]
  },
  {
   "cell_type": "code",
   "execution_count": 44,
   "metadata": {},
   "outputs": [
    {
     "data": {
      "text/plain": [
       "WSU      0\n",
       "WS9      0\n",
       "WS8      0\n",
       "WS7      0\n",
       "WS6      0\n",
       "      ... \n",
       "BAL    424\n",
       "ATL    425\n",
       "ARI    399\n",
       "ANA      0\n",
       "ALT      0\n",
       "Length: 149, dtype: int64"
      ]
     },
     "metadata": {},
     "output_type": "display_data"
    }
   ],
   "source": [
    "# Compute the total number of wins for each of the teams in MLB over 2011-2015, sort them in a \n",
    "# descending order.\n",
    "\n",
    "win_order = pd.Series(dtype = int)\n",
    "teams_name = teams_data['teamID']\n",
    "for team_name in teams_name:\n",
    "    win_order[team_name] = teams_data[(2011 <= teams_data['yearID']) & (teams_data['yearID'] <= 2015) & (teams_data['teamID'] == team_name)]['W'].sum()\n",
    "\n",
    "display(win_order.sort_values(ascending = False))"
   ]
  },
  {
   "cell_type": "code",
   "execution_count": 45,
   "metadata": {},
   "outputs": [
    {
     "data": {
      "text/plain": [
       "WSU    0.000000e+00\n",
       "WS9    0.000000e+00\n",
       "WS8    0.000000e+00\n",
       "WS7    0.000000e+00\n",
       "WS6    0.000000e+00\n",
       "           ...     \n",
       "BAL    3.443053e+06\n",
       "ATL    3.322769e+06\n",
       "ARI    2.730161e+06\n",
       "ANA    0.000000e+00\n",
       "ALT    0.000000e+00\n",
       "Length: 149, dtype: float64"
      ]
     },
     "metadata": {},
     "output_type": "display_data"
    }
   ],
   "source": [
    "# Compute the average payroll per year for all teams over 2011-2015, sort them in a descending order. \n",
    "\n",
    "payroll_average_order = pd.Series(dtype = float)\n",
    "teams_name = teams_data['teamID']\n",
    "for team_name in teams_name:\n",
    "    payroll_average_order[team_name] = players_data[(2011 <= players_data['yearID']) & (players_data['yearID'] <= 2015) & (players_data['teamID'] == team_name)]['salary'].mean()\n",
    "\n",
    "display(payroll_average_order.sort_values(ascending = False).fillna(0))"
   ]
  },
  {
   "cell_type": "code",
   "execution_count": 43,
   "metadata": {},
   "outputs": [
    {
     "data": {
      "image/png": "[encoded data removed]",
      "text/plain": [
       "<Figure size 640x480 with 1 Axes>"
      ]
     },
     "metadata": {},
     "output_type": "display_data"
    }
   ],
   "source": [
    "win_payroll_table = plt.plot(win_order.sort_index(ascending = False), payroll_average_order.sort_index(ascending = False).fillna(0))\n",
    "\n",
    "plt.setp(win_payroll_table, marker = \"o\", linewidth = 0)\n",
    "plt.grid(False)\n",
    "plt.show()"
   ]
  }
 ],
 "metadata": {
  "kernelspec": {
   "display_name": "Python 3.10.6 64-bit",
   "language": "python",
   "name": "python3"
  },
  "language_info": {
   "codemirror_mode": {
    "name": "ipython",
    "version": 3
   },
   "file_extension": ".py",
   "mimetype": "text/x-python",
   "name": "python",
   "nbconvert_exporter": "python",
   "pygments_lexer": "ipython3",
   "version": "3.10.6"
  },
  "orig_nbformat": 4,
  "vscode": {
   "interpreter": {
    "hash": "b0fa6594d8f4cbf19f97940f81e996739fb7646882a419484c72d19e05852a7e"
   }
  }
 },
 "nbformat": 4,
 "nbformat_minor": 2
}
